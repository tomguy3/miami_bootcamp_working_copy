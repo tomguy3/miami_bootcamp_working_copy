{
 "cells": [
  {
   "cell_type": "code",
   "execution_count": null,
   "id": "573749a0-2402-440f-bb4a-05d8a5399801",
   "metadata": {},
   "outputs": [
    {
     "name": "stdout",
     "output_type": "stream",
     "text": [
      "Nothing is true\n"
     ]
    }
   ],
   "source": [
    "#Conditionals\n",
    "#if then statement\n",
    "if 1 > 3:\n",
    "    #do stuff\n",
    "    print('this is true')\n",
    "elif 4 == 5.0:\n",
    "    print('This is the four')\n",
    "elif 1 > 2:\n",
    "    print ('Three > seven')\n",
    "else: \n",
    "    print('Nothing is true')\n",
    "    \n",
    "# = -> assignment\n",
    "# == -> comparison\n"
   ]
  },
  {
   "cell_type": "code",
   "execution_count": null,
   "id": "90e27b0f-4afb-4a87-9f4b-3b8b78beb4b6",
   "metadata": {},
   "outputs": [],
   "source": [
    "#python is indentation language"
   ]
  },
  {
   "cell_type": "code",
   "execution_count": 7,
   "id": "7a9f6927-2949-450f-ab94-08e7c36e481f",
   "metadata": {},
   "outputs": [],
   "source": [
    "x = 5\n",
    "y = 10"
   ]
  },
  {
   "cell_type": "code",
   "execution_count": 15,
   "id": "c8b6478a-5db8-4fb2-b0aa-56c233b0bfae",
   "metadata": {},
   "outputs": [
    {
     "name": "stdout",
     "output_type": "stream",
     "text": [
      "both x and y are greater than 0\n"
     ]
    }
   ],
   "source": [
    "if x > 0 or y < 0:\n",
    "    # and is inclusive and\n",
    "    print('both x and y are greater than 0')"
   ]
  },
  {
   "cell_type": "code",
   "execution_count": 16,
   "id": "117508fc-b956-416c-9188-44ea92430f6c",
   "metadata": {},
   "outputs": [
    {
     "name": "stdout",
     "output_type": "stream",
     "text": [
      "statement 1\n"
     ]
    }
   ],
   "source": [
    "if x < 5 or (x > 5 or y > 5):\n",
    "    print ('statement 1')\n",
    "else:\n",
    "    print('statement 2')"
   ]
  },
  {
   "cell_type": "code",
   "execution_count": 17,
   "id": "39e1fa56-4898-4c20-99a1-54917f4025ea",
   "metadata": {},
   "outputs": [
    {
     "name": "stdout",
     "output_type": "stream",
     "text": [
      "statement 3\n"
     ]
    }
   ],
   "source": [
    "if (x<1 and y>0) and (x==5 and y==10):\n",
    "    print('statement 1')\n",
    "elif (y > 10 or x > 5) or (x < 3 and y == -1):\n",
    "    print('statement 2')\n",
    "elif (x > 4 and y < 100) and (y == 10 or x < 1):\n",
    "    print('statement 3')\n",
    "else:\n",
    "    print('none are true')\n",
    "          \n",
    "    "
   ]
  },
  {
   "cell_type": "code",
   "execution_count": null,
   "id": "662c351b-6e2c-4d42-a184-24f9f9a1dad9",
   "metadata": {},
   "outputs": [],
   "source": []
  }
 ],
 "metadata": {
  "kernelspec": {
   "display_name": "Python 3 (ipykernel)",
   "language": "python",
   "name": "python3"
  },
  "language_info": {
   "codemirror_mode": {
    "name": "ipython",
    "version": 3
   },
   "file_extension": ".py",
   "mimetype": "text/x-python",
   "name": "python",
   "nbconvert_exporter": "python",
   "pygments_lexer": "ipython3",
   "version": "3.9.7"
  }
 },
 "nbformat": 4,
 "nbformat_minor": 5
}
