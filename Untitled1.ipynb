{
 "cells": [
  {
   "cell_type": "code",
   "execution_count": 3,
   "id": "9e98974b-085d-45ba-a7da-97c6c5d335ec",
   "metadata": {
    "tags": []
   },
   "outputs": [
    {
     "name": "stdout",
     "output_type": "stream",
     "text": [
      "0\n",
      "1\n",
      "2\n",
      "3\n",
      "4\n",
      "5\n",
      "6\n",
      "7\n",
      "8\n"
     ]
    }
   ],
   "source": [
    "# Loops\n",
    "for i in range(0,9): #[0,1,2,3,4,5,6,7,8]\n",
    "    print(i)"
   ]
  },
  {
   "cell_type": "code",
   "execution_count": 4,
   "id": "4e4727b9-02ac-4e05-beb8-53a60b622031",
   "metadata": {},
   "outputs": [],
   "source": [
    "#Loop through anything that is iterable\n",
    "# lists, some objects, parts of a dictionary, strings, tuples, sets"
   ]
  },
  {
   "cell_type": "code",
   "execution_count": 6,
   "id": "4da518a0-fce6-4093-81be-e22a9687bf24",
   "metadata": {},
   "outputs": [
    {
     "name": "stdout",
     "output_type": "stream",
     "text": [
      "h\n",
      "e\n",
      "l\n",
      "l\n",
      "o\n",
      " \n",
      "w\n",
      "o\n",
      "r\n",
      "l\n",
      "d\n"
     ]
    }
   ],
   "source": [
    "for letter in 'hello world':\n",
    "    print(letter)"
   ]
  },
  {
   "cell_type": "code",
   "execution_count": 8,
   "id": "b5c86975-e75c-4fde-ab34-34289074a185",
   "metadata": {
    "tags": []
   },
   "outputs": [
    {
     "ename": "SyntaxError",
     "evalue": "cannot assign to literal (4105915593.py, line 1)",
     "output_type": "error",
     "traceback": [
      "\u001b[0;36m  File \u001b[0;32m\"/var/folders/_8/cmxyhkzx7sg1c09044h2t4000000gn/T/ipykernel_69774/4105915593.py\"\u001b[0;36m, line \u001b[0;32m1\u001b[0m\n\u001b[0;31m    for i,'hello world':\u001b[0m\n\u001b[0m          ^\u001b[0m\n\u001b[0;31mSyntaxError\u001b[0m\u001b[0;31m:\u001b[0m cannot assign to literal\n"
     ]
    }
   ],
   "source": [
    "for i, ('hello world'):\n",
    "    print(i)"
   ]
  },
  {
   "cell_type": "raw",
   "id": "5abe7316-aef1-4537-91e6-51c7705917b2",
   "metadata": {},
   "source": [
    "#list all multiples of 3 until I hit 30\n",
    "for x in range(0,31):\n",
    "    print(x)\n",
    "  #3 , 6, 9, 12, 15 ... 30 \n",
    " "
   ]
  },
  {
   "cell_type": "code",
   "execution_count": 12,
   "id": "f30d93a4-4909-40c3-8b22-01d8df40be0e",
   "metadata": {},
   "outputs": [
    {
     "name": "stdout",
     "output_type": "stream",
     "text": [
      "0\n",
      "3\n",
      "6\n",
      "9\n",
      "12\n",
      "15\n",
      "18\n",
      "21\n",
      "24\n",
      "27\n",
      "30\n",
      "33\n",
      "36\n",
      "39\n",
      "42\n",
      "45\n",
      "48\n",
      "51\n",
      "54\n",
      "57\n",
      "60\n",
      "63\n",
      "66\n",
      "69\n",
      "72\n",
      "75\n",
      "78\n",
      "81\n",
      "84\n",
      "87\n",
      "90\n"
     ]
    }
   ],
   "source": [
    "#list all multiples of 3 until I hit 30\n",
    "for x in range(0,31):\n",
    "    print(x * 3)\n",
    "  #3 , 6, 9, 12, 15 ... 30 \n",
    " "
   ]
  },
  {
   "cell_type": "code",
   "execution_count": 13,
   "id": "c4a6210f-a8f6-48e2-8832-3e8819e8e1aa",
   "metadata": {},
   "outputs": [
    {
     "name": "stdout",
     "output_type": "stream",
     "text": [
      "0\n",
      "3\n",
      "6\n",
      "9\n",
      "12\n",
      "15\n",
      "18\n",
      "21\n",
      "24\n",
      "27\n"
     ]
    }
   ],
   "source": [
    "#list all multiples of 3 until I hit 30\n",
    "for x in range(0,31):\n",
    "    if x * 3 < 30:\n",
    "        print(x * 3)\n",
    "  #3 , 6, 9, 12, 15 ... 30 "
   ]
  },
  {
   "cell_type": "code",
   "execution_count": 16,
   "id": "01eb5497-9fc2-4db3-88ac-e3527a5f0e96",
   "metadata": {},
   "outputs": [
    {
     "name": "stdout",
     "output_type": "stream",
     "text": [
      "5\n",
      "6\n",
      "7\n",
      "8\n",
      "9\n"
     ]
    }
   ],
   "source": [
    "#while loops will run until the conditional is no longer true\n",
    "x = 5\n",
    "while x < 10:\n",
    "    print (x)\n",
    "    x = x + 1\n",
    "    # x += 1"
   ]
  },
  {
   "cell_type": "code",
   "execution_count": null,
   "id": "e90a98e4-045b-46a5-a235-fc1acbddef4d",
   "metadata": {},
   "outputs": [],
   "source": []
  }
 ],
 "metadata": {
  "kernelspec": {
   "display_name": "Python 3 (ipykernel)",
   "language": "python",
   "name": "python3"
  },
  "language_info": {
   "codemirror_mode": {
    "name": "ipython",
    "version": 3
   },
   "file_extension": ".py",
   "mimetype": "text/x-python",
   "name": "python",
   "nbconvert_exporter": "python",
   "pygments_lexer": "ipython3",
   "version": "3.9.7"
  }
 },
 "nbformat": 4,
 "nbformat_minor": 5
}
