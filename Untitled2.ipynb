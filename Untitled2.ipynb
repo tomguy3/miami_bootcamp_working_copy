{
 "cells": [
  {
   "cell_type": "code",
   "execution_count": 1,
   "id": "5c620787-29b0-46e8-ae71-59982480676a",
   "metadata": {},
   "outputs": [
    {
     "ename": "SyntaxError",
     "evalue": "invalid syntax (3810841000.py, line 9)",
     "output_type": "error",
     "traceback": [
      "\u001b[0;36m  File \u001b[0;32m\"/var/folders/_8/cmxyhkzx7sg1c09044h2t4000000gn/T/ipykernel_69883/3810841000.py\"\u001b[0;36m, line \u001b[0;32m9\u001b[0m\n\u001b[0;31m    fox x in cheer:\u001b[0m\n\u001b[0m        ^\u001b[0m\n\u001b[0;31mSyntaxError\u001b[0m\u001b[0;31m:\u001b[0m invalid syntax\n"
     ]
    }
   ],
   "source": [
    "# Create a variable named cheer\n",
    "cheer = \"Python\"\n",
    "\n",
    "# Below a string can be used to add fun\n",
    "cheer_symbol = \"*\\O/*\"\n",
    "cheer_symbol_2 = \"\\( ^o^)/\\(^ _ ^)\"\n",
    "\n",
    "# Loop through a string\n",
    "fox x in cheer:\n",
    "    #Print each letter with a cheer\n",
    "    print(\"Give me a \" + x + \"1\")\n",
    "    print(x + \"1\")\n",
    "\n"
   ]
  },
  {
   "cell_type": "code",
   "execution_count": 2,
   "id": "466543f9-d479-46de-b0d2-b9d7547fb551",
   "metadata": {},
   "outputs": [
    {
     "ename": "NameError",
     "evalue": "name 'Python' is not defined",
     "output_type": "error",
     "traceback": [
      "\u001b[0;31m---------------------------------------------------------------------------\u001b[0m",
      "\u001b[0;31mNameError\u001b[0m                                 Traceback (most recent call last)",
      "\u001b[0;32m/var/folders/_8/cmxyhkzx7sg1c09044h2t4000000gn/T/ipykernel_69883/1083269845.py\u001b[0m in \u001b[0;36m<module>\u001b[0;34m\u001b[0m\n\u001b[0;32m----> 1\u001b[0;31m \u001b[0mcheer\u001b[0m \u001b[0;34m=\u001b[0m \u001b[0mPython\u001b[0m\u001b[0;34m\u001b[0m\u001b[0;34m\u001b[0m\u001b[0m\n\u001b[0m",
      "\u001b[0;31mNameError\u001b[0m: name 'Python' is not defined"
     ]
    }
   ],
   "source": [
    "cheer = Python"
   ]
  },
  {
   "cell_type": "code",
   "execution_count": 3,
   "id": "10cd8e0d-15fc-43df-b565-9b8e69ffbad6",
   "metadata": {},
   "outputs": [
    {
     "ename": "SyntaxError",
     "evalue": "invalid syntax (2641641360.py, line 1)",
     "output_type": "error",
     "traceback": [
      "\u001b[0;36m  File \u001b[0;32m\"/var/folders/_8/cmxyhkzx7sg1c09044h2t4000000gn/T/ipykernel_69883/2641641360.py\"\u001b[0;36m, line \u001b[0;32m1\u001b[0m\n\u001b[0;31m    def \"Python\"\u001b[0m\n\u001b[0m        ^\u001b[0m\n\u001b[0;31mSyntaxError\u001b[0m\u001b[0;31m:\u001b[0m invalid syntax\n"
     ]
    }
   ],
   "source": [
    "def \"Python\""
   ]
  },
  {
   "cell_type": "code",
   "execution_count": 14,
   "id": "cf03b9ca-cd3a-40fa-ac00-3d311a6877ed",
   "metadata": {},
   "outputs": [],
   "source": [
    "cheer_symbol = \"*\\O/*\""
   ]
  },
  {
   "cell_type": "code",
   "execution_count": 7,
   "id": "b0eaf1ae-0f5e-4c90-adb0-c1bbef6606ba",
   "metadata": {},
   "outputs": [
    {
     "ename": "NameError",
     "evalue": "name 'cheer' is not defined",
     "output_type": "error",
     "traceback": [
      "\u001b[0;31m---------------------------------------------------------------------------\u001b[0m",
      "\u001b[0;31mNameError\u001b[0m                                 Traceback (most recent call last)",
      "\u001b[0;32m/var/folders/_8/cmxyhkzx7sg1c09044h2t4000000gn/T/ipykernel_69883/3941788684.py\u001b[0m in \u001b[0;36m<module>\u001b[0;34m\u001b[0m\n\u001b[0;32m----> 1\u001b[0;31m \u001b[0;32mfor\u001b[0m \u001b[0mx\u001b[0m \u001b[0;32min\u001b[0m \u001b[0mcheer\u001b[0m\u001b[0;34m:\u001b[0m\u001b[0;34m\u001b[0m\u001b[0;34m\u001b[0m\u001b[0m\n\u001b[0m\u001b[1;32m      2\u001b[0m     \u001b[0;31m#Print each letter with a cheer\u001b[0m\u001b[0;34m\u001b[0m\u001b[0;34m\u001b[0m\u001b[0m\n\u001b[1;32m      3\u001b[0m     \u001b[0mprint\u001b[0m\u001b[0;34m(\u001b[0m\u001b[0;34m\"Give me a \"\u001b[0m \u001b[0;34m+\u001b[0m \u001b[0mx\u001b[0m \u001b[0;34m+\u001b[0m \u001b[0;34m\"!\"\u001b[0m\u001b[0;34m)\u001b[0m\u001b[0;34m\u001b[0m\u001b[0;34m\u001b[0m\u001b[0m\n\u001b[1;32m      4\u001b[0m     \u001b[0mprint\u001b[0m\u001b[0;34m(\u001b[0m\u001b[0mx\u001b[0m \u001b[0;34m+\u001b[0m \u001b[0;34m\"!\"\u001b[0m\u001b[0;34m)\u001b[0m\u001b[0;34m\u001b[0m\u001b[0;34m\u001b[0m\u001b[0m\n",
      "\u001b[0;31mNameError\u001b[0m: name 'cheer' is not defined"
     ]
    }
   ],
   "source": [
    "for x in cheer:\n",
    "    #Print each letter with a cheer\n",
    "    print(\"Give me a \" + x + \"!\")\n",
    "    print(x + \"!\")"
   ]
  },
  {
   "cell_type": "raw",
   "id": "915ff2f7-9694-4f6f-9e7b-a2ceb00c1ed0",
   "metadata": {},
   "source": [
    "print \"cheer_symbol\""
   ]
  },
  {
   "cell_type": "code",
   "execution_count": 13,
   "id": "cb0a36ec-88b3-4801-ac5e-e827c8ebc66b",
   "metadata": {},
   "outputs": [
    {
     "name": "stdout",
     "output_type": "stream",
     "text": [
      "cheer_symbol_2\n"
     ]
    }
   ],
   "source": [
    "print (\"cheer_symbol_2\")"
   ]
  },
  {
   "cell_type": "code",
   "execution_count": 17,
   "id": "b3faddbb-6f86-4ad6-ad54-1e5a9dcee410",
   "metadata": {},
   "outputs": [],
   "source": [
    "cheer_symbol_2 = (\"\\( ^o^)/\\(^ _ ^)\")"
   ]
  },
  {
   "cell_type": "code",
   "execution_count": 16,
   "id": "88039e6d-0ca5-41a4-a929-a908b290531a",
   "metadata": {},
   "outputs": [
    {
     "name": "stdout",
     "output_type": "stream",
     "text": [
      "cheer_symbol_2\n"
     ]
    }
   ],
   "source": [
    "print (\"cheer_symbol_2\")"
   ]
  },
  {
   "cell_type": "code",
   "execution_count": 18,
   "id": "d9619870-6877-46e9-a856-77b468971420",
   "metadata": {},
   "outputs": [
    {
     "name": "stdout",
     "output_type": "stream",
     "text": [
      "cheer_symbol_2\n"
     ]
    }
   ],
   "source": [
    "print (\"cheer_symbol_2\")"
   ]
  },
  {
   "cell_type": "code",
   "execution_count": 19,
   "id": "e8c0bbea-d10f-4c42-a24c-103edbeb87e4",
   "metadata": {},
   "outputs": [],
   "source": [
    "cheer = \"cheer\""
   ]
  },
  {
   "cell_type": "code",
   "execution_count": 31,
   "id": "ead3e719-1752-4868-8105-6b92b6cea7d2",
   "metadata": {},
   "outputs": [
    {
     "name": "stdout",
     "output_type": "stream",
     "text": [
      "Give me a c -- c!\n",
      "Give me a h -- h!\n",
      "Give me a e -- e!\n",
      "Give me a e -- e!\n",
      "Give me a r -- r!\n",
      "Whats that spell\n",
      "CHEER !\n"
     ]
    }
   ],
   "source": [
    "for letter in cheer:\n",
    "    print(f'Give me a {letter} -- {letter}!')\n",
    "\n",
    "print('Whats that spell')\n",
    "print(cheer. upper(), '!')"
   ]
  },
  {
   "cell_type": "code",
   "execution_count": 21,
   "id": "c652cf14-9a5c-4773-a4ef-f45031d9842c",
   "metadata": {},
   "outputs": [
    {
     "name": "stdout",
     "output_type": "stream",
     "text": [
      "\n",
      "What does that spell?!\n",
      "\n",
      "What does that spell?!\n",
      "\n",
      "What does that spell?!\n",
      "\n",
      "What does that spell?!\n",
      "\n",
      "What does that spell?!\n"
     ]
    }
   ],
   "source": [
    "for x in cheer:\n",
    "    print(\"\\nWhat does that spell?!\")"
   ]
  },
  {
   "cell_type": "code",
   "execution_count": 23,
   "id": "a28e5fc0-e53d-4978-8d4a-6a14ae5dafa4",
   "metadata": {},
   "outputs": [
    {
     "name": "stdout",
     "output_type": "stream",
     "text": [
      "cheer\n"
     ]
    }
   ],
   "source": [
    "print(cheer)"
   ]
  },
  {
   "cell_type": "code",
   "execution_count": null,
   "id": "089af3ac-b692-4e0d-b4e3-41f793a4399f",
   "metadata": {},
   "outputs": [],
   "source": []
  }
 ],
 "metadata": {
  "kernelspec": {
   "display_name": "Python 3 (ipykernel)",
   "language": "python",
   "name": "python3"
  },
  "language_info": {
   "codemirror_mode": {
    "name": "ipython",
    "version": 3
   },
   "file_extension": ".py",
   "mimetype": "text/x-python",
   "name": "python",
   "nbconvert_exporter": "python",
   "pygments_lexer": "ipython3",
   "version": "3.9.7"
  }
 },
 "nbformat": 4,
 "nbformat_minor": 5
}
